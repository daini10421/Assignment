{
  "nbformat": 4,
  "nbformat_minor": 0,
  "metadata": {
    "colab": {
      "provenance": [],
      "authorship_tag": "ABX9TyMB5EP4FjYgZMpPKs+BTeXF",
      "include_colab_link": true
    },
    "kernelspec": {
      "name": "python3",
      "display_name": "Python 3"
    },
    "language_info": {
      "name": "python"
    }
  },
  "cells": [
    {
      "cell_type": "markdown",
      "metadata": {
        "id": "view-in-github",
        "colab_type": "text"
      },
      "source": [
        "<a href=\"https://colab.research.google.com/github/daini10421/Assignment-01-Python-Assignment/blob/main/Python_Assignment.ipynb\" target=\"_parent\"><img src=\"https://colab.research.google.com/assets/colab-badge.svg\" alt=\"Open In Colab\"/></a>"
      ]
    },
    {
      "cell_type": "markdown",
      "source": [
        "# **PYTHON ASSIGNMENT**\n",
        "\n"
      ],
      "metadata": {
        "id": "gbc57dv1VP_D"
      }
    },
    {
      "cell_type": "markdown",
      "source": [
        "# **Q.1 (i)**\n",
        "\n"
      ],
      "metadata": {
        "id": "MNL0aQlFJne9"
      }
    },
    {
      "cell_type": "code",
      "execution_count": null,
      "metadata": {
        "colab": {
          "base_uri": "https://localhost:8080/"
        },
        "id": "ppe3tj7oEB5E",
        "outputId": "8fc21d70-f350-4426-d29a-4ac9c854845e"
      },
      "outputs": [
        {
          "output_type": "stream",
          "name": "stdout",
          "text": [
            "[11, 12, 13, 14, 50, 60]\n"
          ]
        }
      ],
      "source": [
        "L=[11,12,13,14]\n",
        "L.append(50)\n",
        "L.append(60)\n",
        "print(L)"
      ]
    },
    {
      "cell_type": "markdown",
      "source": [
        "# **Q.1(ii)**\n",
        "\n",
        "\n"
      ],
      "metadata": {
        "id": "enmJVnJBJmja"
      }
    },
    {
      "cell_type": "code",
      "source": [
        "L=[11,12,13,14]\n",
        "L.remove(11)\n",
        "L.remove(13)\n",
        "print(L)"
      ],
      "metadata": {
        "colab": {
          "base_uri": "https://localhost:8080/"
        },
        "id": "BpKMN58PJ8gm",
        "outputId": "4077521d-25ce-4c8b-bf84-b566c1e5c020"
      },
      "execution_count": null,
      "outputs": [
        {
          "output_type": "stream",
          "name": "stdout",
          "text": [
            "[12, 14]\n"
          ]
        }
      ]
    },
    {
      "cell_type": "markdown",
      "source": [
        "# **Q.1(iii)**"
      ],
      "metadata": {
        "id": "ZZCfIIgOTBx0"
      }
    },
    {
      "cell_type": "code",
      "source": [
        "L=[11,12,13,14]\n",
        "L.sort()\n",
        "print(L)"
      ],
      "metadata": {
        "colab": {
          "base_uri": "https://localhost:8080/"
        },
        "id": "JunwJlrQKcVP",
        "outputId": "15375758-1751-47e8-ef6a-4aa18383c370"
      },
      "execution_count": null,
      "outputs": [
        {
          "output_type": "stream",
          "name": "stdout",
          "text": [
            "[11, 12, 13, 14]\n"
          ]
        }
      ]
    },
    {
      "cell_type": "markdown",
      "source": [
        "# **Q.1(iv)**"
      ],
      "metadata": {
        "id": "papVNCUrTHCM"
      }
    },
    {
      "cell_type": "code",
      "source": [
        "L=[11,12,13,14]\n",
        "L.sort(reverse=True)\n",
        "print(L)"
      ],
      "metadata": {
        "colab": {
          "base_uri": "https://localhost:8080/"
        },
        "id": "sR7GyOhWKymg",
        "outputId": "56b8740f-be7c-4304-c3f2-c8c7e23876c8"
      },
      "execution_count": null,
      "outputs": [
        {
          "output_type": "stream",
          "name": "stdout",
          "text": [
            "[14, 13, 12, 11]\n"
          ]
        }
      ]
    },
    {
      "cell_type": "markdown",
      "source": [
        "# **Q.1(v)**"
      ],
      "metadata": {
        "id": "1hdpgXwxTl1s"
      }
    },
    {
      "cell_type": "code",
      "source": [
        "L=[11,12,13,14]\n",
        "if (13 in L) == True:\n",
        "\tprint (\" 13 is Present\")"
      ],
      "metadata": {
        "colab": {
          "base_uri": "https://localhost:8080/"
        },
        "id": "Xkr2CersK5gc",
        "outputId": "f345a997-946c-4580-f4a7-34c95f158363"
      },
      "execution_count": null,
      "outputs": [
        {
          "output_type": "stream",
          "name": "stdout",
          "text": [
            " 13 is Present\n"
          ]
        }
      ]
    },
    {
      "cell_type": "markdown",
      "source": [
        "# **Q.1(vi)**"
      ],
      "metadata": {
        "id": "1A3TeoUSTofm"
      }
    },
    {
      "cell_type": "code",
      "source": [
        "L=[11,12,13,14]\n",
        "print(len(L))"
      ],
      "metadata": {
        "colab": {
          "base_uri": "https://localhost:8080/"
        },
        "id": "8knr-geLLLX0",
        "outputId": "41e1af53-e635-4184-dcf8-950234c197da"
      },
      "execution_count": null,
      "outputs": [
        {
          "output_type": "stream",
          "name": "stdout",
          "text": [
            "4\n"
          ]
        }
      ]
    },
    {
      "cell_type": "markdown",
      "source": [
        "# **Q.1(vii)**"
      ],
      "metadata": {
        "id": "jy5owfxITq8j"
      }
    },
    {
      "cell_type": "code",
      "source": [
        "L=[11,12,13,14]\n",
        "print(sum(L))"
      ],
      "metadata": {
        "colab": {
          "base_uri": "https://localhost:8080/"
        },
        "id": "RjMz9TaoMKfr",
        "outputId": "194ebf81-c8f8-4a62-a792-57bbc338a65d"
      },
      "execution_count": null,
      "outputs": [
        {
          "output_type": "stream",
          "name": "stdout",
          "text": [
            "50\n"
          ]
        }
      ]
    },
    {
      "cell_type": "markdown",
      "source": [
        "# **Q.1(viii)**"
      ],
      "metadata": {
        "id": "HWf9dNBcTxZv"
      }
    },
    {
      "cell_type": "code",
      "source": [
        "L=[11,12,13,14]\n",
        "sum=0\n",
        "for i in L:\n",
        "  if i%2!=0:\n",
        "    sum=sum+i\n",
        "print(sum)"
      ],
      "metadata": {
        "colab": {
          "base_uri": "https://localhost:8080/"
        },
        "id": "KUqm96WwNbID",
        "outputId": "a87b3ff6-4928-4def-d84d-bf51857996ae"
      },
      "execution_count": null,
      "outputs": [
        {
          "output_type": "stream",
          "name": "stdout",
          "text": [
            "24\n"
          ]
        }
      ]
    },
    {
      "cell_type": "markdown",
      "source": [
        "# **Q.1(ix)**"
      ],
      "metadata": {
        "id": "AuTTqy7FT1Ld"
      }
    },
    {
      "cell_type": "code",
      "source": [
        "L=[11,12,13,14]\n",
        "sum=0\n",
        "for i in L:\n",
        "  if i%2==0:\n",
        "    sum=sum+i\n",
        "print(sum)"
      ],
      "metadata": {
        "colab": {
          "base_uri": "https://localhost:8080/"
        },
        "id": "pRw-xLYfPXAz",
        "outputId": "072ff3da-2f32-4b68-892a-78955484b928"
      },
      "execution_count": null,
      "outputs": [
        {
          "output_type": "stream",
          "name": "stdout",
          "text": [
            "26\n"
          ]
        }
      ]
    },
    {
      "cell_type": "markdown",
      "source": [
        "# **Q.1(x)**"
      ],
      "metadata": {
        "id": "KTtylpzfT4ZN"
      }
    },
    {
      "cell_type": "code",
      "source": [
        "L=[11,12,13,14]\n",
        "sum=0\n",
        "for i in L:\n",
        "  k=0\n",
        "  for j in range(2,i//2+1):\n",
        "    if i%j==0:\n",
        "      k=1\n",
        "      break\n",
        "  if k==0:\n",
        "    sum=sum+i\n",
        "print(sum)"
      ],
      "metadata": {
        "colab": {
          "base_uri": "https://localhost:8080/"
        },
        "id": "XVJM0--CPjWl",
        "outputId": "de9dc569-0003-43d4-b4a5-3d2314c8b17f"
      },
      "execution_count": null,
      "outputs": [
        {
          "output_type": "stream",
          "name": "stdout",
          "text": [
            "24\n"
          ]
        }
      ]
    },
    {
      "cell_type": "markdown",
      "source": [
        "# **Q.1(xi)**"
      ],
      "metadata": {
        "id": "_gmHvJyFT9Em"
      }
    },
    {
      "cell_type": "code",
      "source": [
        "L=[11,12,13,14]\n",
        "L.clear()\n",
        "print(L)"
      ],
      "metadata": {
        "colab": {
          "base_uri": "https://localhost:8080/"
        },
        "id": "bBopf46JQgpa",
        "outputId": "d343549f-fbba-4dc3-ff4e-74f393197422"
      },
      "execution_count": null,
      "outputs": [
        {
          "output_type": "stream",
          "name": "stdout",
          "text": [
            "[]\n"
          ]
        }
      ]
    },
    {
      "cell_type": "markdown",
      "source": [
        "# **Q.1(xii)**"
      ],
      "metadata": {
        "id": "CS-ZZLdplJHZ"
      }
    },
    {
      "cell_type": "code",
      "source": [
        "L=[11,12,13,14]\n",
        "del L\n",
        "print(L) # L is deleted hence error is shown #"
      ],
      "metadata": {
        "id": "_Ss_9-zaNEAg"
      },
      "execution_count": 3,
      "outputs": []
    },
    {
      "cell_type": "markdown",
      "source": [
        "# **Q.2(i)**"
      ],
      "metadata": {
        "id": "K-snINEVINDt"
      }
    },
    {
      "cell_type": "code",
      "source": [
        "D = {1:5.6, 2:7.8, 3:6.6, 4:8.7, 5:7.7}\n",
        "D[8] = 8.8\n",
        "print(D)\n"
      ],
      "metadata": {
        "colab": {
          "base_uri": "https://localhost:8080/"
        },
        "id": "i7XT8-VSIWpB",
        "outputId": "3c61628c-c89d-44c5-ae15-88d224056313"
      },
      "execution_count": null,
      "outputs": [
        {
          "output_type": "stream",
          "name": "stdout",
          "text": [
            "{1: 5.6, 2: 7.8, 3: 6.6, 4: 8.7, 5: 7.7, 8: 8.8}\n"
          ]
        }
      ]
    },
    {
      "cell_type": "markdown",
      "source": [
        "# **Q.2(ii)**"
      ],
      "metadata": {
        "id": "Hy_-ZsRcuNBq"
      }
    },
    {
      "cell_type": "code",
      "source": [
        "D = {1:5.6, 2:7.8, 3:6.6, 4:8.7, 5:7.7}\n",
        "del D[2]\n",
        "print(D)\n"
      ],
      "metadata": {
        "colab": {
          "base_uri": "https://localhost:8080/"
        },
        "outputId": "d4e7c671-0d22-4b85-fd90-99c8f59704ba",
        "id": "mTJ6Q4UwJtyj"
      },
      "execution_count": null,
      "outputs": [
        {
          "output_type": "stream",
          "name": "stdout",
          "text": [
            "{1: 5.6, 3: 6.6, 4: 8.7, 5: 7.7}\n"
          ]
        }
      ]
    },
    {
      "cell_type": "markdown",
      "source": [
        "# **Q.2(iii)**"
      ],
      "metadata": {
        "id": "qvOOeCekuPuh"
      }
    },
    {
      "cell_type": "code",
      "source": [
        "D = {1:5.6, 2:7.8, 3:6.6, 4:8.7, 5:7.7}\n",
        "print(\"key 6 is present\" ,6 in D)"
      ],
      "metadata": {
        "colab": {
          "base_uri": "https://localhost:8080/"
        },
        "id": "YwBq-V_bKPhd",
        "outputId": "18dc05e2-dbf6-4497-bbbc-ef12a60d3ee8"
      },
      "execution_count": null,
      "outputs": [
        {
          "output_type": "stream",
          "name": "stdout",
          "text": [
            "key 6 is present False\n"
          ]
        }
      ]
    },
    {
      "cell_type": "markdown",
      "source": [
        "# **Q.2(iv)**"
      ],
      "metadata": {
        "id": "rIB8fv7MuU7W"
      }
    },
    {
      "cell_type": "code",
      "source": [
        "D = {1:5.6, 2:7.8, 3:6.6, 4:8.7, 5:7.7}\n",
        "print(len(D))"
      ],
      "metadata": {
        "colab": {
          "base_uri": "https://localhost:8080/"
        },
        "id": "qOfx_pHkK-WU",
        "outputId": "baa42eae-84fd-4303-81b8-93bd5fe3208d"
      },
      "execution_count": null,
      "outputs": [
        {
          "output_type": "stream",
          "name": "stdout",
          "text": [
            "5\n"
          ]
        }
      ]
    },
    {
      "cell_type": "markdown",
      "source": [
        "# **Q.2(v)**"
      ],
      "metadata": {
        "id": "GgoParRwuWsb"
      }
    },
    {
      "cell_type": "code",
      "source": [
        "D = {1:5.6, 2:7.8, 3:6.6, 4:8.7, 5:7.7}\n",
        "print(sum(D))"
      ],
      "metadata": {
        "colab": {
          "base_uri": "https://localhost:8080/"
        },
        "id": "cFFAhY-9LP-8",
        "outputId": "9e093bea-46e2-4f7d-d2cf-4bc6101134f0"
      },
      "execution_count": null,
      "outputs": [
        {
          "output_type": "stream",
          "name": "stdout",
          "text": [
            "15\n"
          ]
        }
      ]
    },
    {
      "cell_type": "markdown",
      "source": [
        "# **Q.2(vi)**"
      ],
      "metadata": {
        "id": "udJO-Yw3uYcF"
      }
    },
    {
      "cell_type": "code",
      "source": [
        "D = {1:5.6, 2:7.8, 3:6.6, 4:8.7, 5:7.7}\n",
        "D[3]=7.1\n",
        "print(D)"
      ],
      "metadata": {
        "id": "TnBS0tIrLuwj",
        "colab": {
          "base_uri": "https://localhost:8080/"
        },
        "outputId": "72693ce8-0578-4e87-8107-05d20143d7a7"
      },
      "execution_count": 45,
      "outputs": [
        {
          "output_type": "stream",
          "name": "stdout",
          "text": [
            "{1: 5.6, 2: 7.8, 3: 7.1, 4: 8.7, 5: 7.7}\n"
          ]
        }
      ]
    },
    {
      "cell_type": "markdown",
      "source": [
        "# **Q.2(vii)**"
      ],
      "metadata": {
        "id": "FmDxjzfKuaKq"
      }
    },
    {
      "cell_type": "code",
      "source": [
        "D = {1:5.6, 2:7.8, 3:6.6, 4:8.7, 5:7.7}\n",
        "D.clear()\n",
        "print(D)\n"
      ],
      "metadata": {
        "colab": {
          "base_uri": "https://localhost:8080/"
        },
        "id": "XhTNWsYpNPJL",
        "outputId": "6ad93e46-a27b-4d30-ac2d-710ae261fa17"
      },
      "execution_count": null,
      "outputs": [
        {
          "output_type": "stream",
          "name": "stdout",
          "text": [
            "{}\n"
          ]
        }
      ]
    },
    {
      "cell_type": "markdown",
      "source": [
        "# **O.3(i)**"
      ],
      "metadata": {
        "id": "1zuRhLSalUXv"
      }
    },
    {
      "cell_type": "code",
      "source": [
        "S1= set([10, 20, 30, 40, 50, 60])\n",
        "S1.add(55)\n",
        "S1.add(66)\n",
        "print(S1)"
      ],
      "metadata": {
        "colab": {
          "base_uri": "https://localhost:8080/"
        },
        "id": "WkyVJ48QPdpN",
        "outputId": "6620e1a6-4b32-468c-de21-ec8cc90e4aad"
      },
      "execution_count": 7,
      "outputs": [
        {
          "output_type": "stream",
          "name": "stdout",
          "text": [
            "{66, 40, 10, 50, 20, 55, 60, 30}\n"
          ]
        }
      ]
    },
    {
      "cell_type": "markdown",
      "source": [
        "# **Q.3(ii)**"
      ],
      "metadata": {
        "id": "D-LS5avWls35"
      }
    },
    {
      "cell_type": "code",
      "source": [
        "S1= set([10, 20, 30, 40, 50, 60])\n",
        "S1.remove(10)\n",
        "S1.remove(30)\n",
        "print(S1)"
      ],
      "metadata": {
        "colab": {
          "base_uri": "https://localhost:8080/"
        },
        "id": "dcGzuq8MQeR5",
        "outputId": "1c410dec-cba5-4bfd-d0ea-77a0b71b0cd3"
      },
      "execution_count": 9,
      "outputs": [
        {
          "output_type": "stream",
          "name": "stdout",
          "text": [
            "{40, 50, 20, 60}\n"
          ]
        }
      ]
    },
    {
      "cell_type": "markdown",
      "source": [
        "# **Q.3(iii)**"
      ],
      "metadata": {
        "id": "YN_4ci4ElvhH"
      }
    },
    {
      "cell_type": "code",
      "source": [
        "S1= set([10, 20, 30, 40, 50, 60])\n",
        "if 40 in S1:\n",
        "  print(\"Exist\")\n",
        "else:\n",
        "  print(\"Not exist\")"
      ],
      "metadata": {
        "colab": {
          "base_uri": "https://localhost:8080/"
        },
        "id": "XcOuGdQXST33",
        "outputId": "8b216d52-df16-41b4-d9a3-32ab1450ed4b"
      },
      "execution_count": 10,
      "outputs": [
        {
          "output_type": "stream",
          "name": "stdout",
          "text": [
            "Exist\n"
          ]
        }
      ]
    },
    {
      "cell_type": "markdown",
      "source": [
        "# **Q.3(iv)**"
      ],
      "metadata": {
        "id": "WroIkJ3ClxZ6"
      }
    },
    {
      "cell_type": "code",
      "source": [
        "S1= set([10, 20, 30, 40, 50, 60])\n",
        "S2= set([40, 50, 60, 70, 80, 90])\n",
        "print(S1.union(S2))"
      ],
      "metadata": {
        "colab": {
          "base_uri": "https://localhost:8080/"
        },
        "id": "s3CqeafLT-mx",
        "outputId": "a2041d97-0070-4dd2-87a6-0b2b3a6f093f"
      },
      "execution_count": 13,
      "outputs": [
        {
          "output_type": "stream",
          "name": "stdout",
          "text": [
            "{70, 10, 80, 20, 90, 30, 40, 50, 60}\n"
          ]
        }
      ]
    },
    {
      "cell_type": "markdown",
      "source": [
        "# **Q.3(v)**"
      ],
      "metadata": {
        "id": "jBFDqN55lyzP"
      }
    },
    {
      "cell_type": "code",
      "source": [
        "S1= set([10, 20, 30, 40, 50, 60])\n",
        "S2= set([40, 50, 60, 70, 80, 90])\n",
        "print(S1.intersection(S2))"
      ],
      "metadata": {
        "colab": {
          "base_uri": "https://localhost:8080/"
        },
        "id": "IADBpiNlT-jP",
        "outputId": "c8e34157-3c5e-464b-8192-cedba92326f3"
      },
      "execution_count": 17,
      "outputs": [
        {
          "output_type": "stream",
          "name": "stdout",
          "text": [
            "{40, 50, 60}\n"
          ]
        }
      ]
    },
    {
      "cell_type": "markdown",
      "source": [
        "# **Q.3(vi)**"
      ],
      "metadata": {
        "id": "pm6GU3rMl1et"
      }
    },
    {
      "cell_type": "code",
      "source": [
        "S1= set([10, 20, 30, 40, 50, 60])\n",
        "S2= set([40, 50, 60, 70, 80, 90])\n",
        "print(S1-S2)"
      ],
      "metadata": {
        "colab": {
          "base_uri": "https://localhost:8080/"
        },
        "id": "HHr81GMyUdpE",
        "outputId": "b1a80ded-ec17-4858-e3c0-66ed71e4593a"
      },
      "execution_count": 18,
      "outputs": [
        {
          "output_type": "stream",
          "name": "stdout",
          "text": [
            "{10, 20, 30}\n"
          ]
        }
      ]
    },
    {
      "cell_type": "markdown",
      "source": [
        "# **4(i)**"
      ],
      "metadata": {
        "id": "FvsWerPRp4nP"
      }
    },
    {
      "cell_type": "code",
      "source": [
        "import random\n",
        "import string\n",
        "\n",
        "def generate_random_string(length):\n",
        "    letters = string.ascii_letters + string.digits\n",
        "    random_string = ''.join(random.choice(letters) for _ in range(length))\n",
        "    return random_string\n",
        "\n",
        "def generate_random_strings(num_strings):\n",
        "    random_strings = []\n",
        "    for _ in range(num_strings):\n",
        "        length = random.randint(6, 8)\n",
        "        random_string = generate_random_string(length)\n",
        "        random_strings.append(random_string)\n",
        "    return random_strings\n",
        "\n",
        "# Example usage\n",
        "random_strings = generate_random_strings(100)\n",
        "for random_string in random_strings:\n",
        "    print(random_string)\n",
        "\n",
        "\n"
      ],
      "metadata": {
        "colab": {
          "base_uri": "https://localhost:8080/"
        },
        "id": "WP4Rt_1MOBTi",
        "outputId": "766b4864-d4e7-40b1-a6da-927fdd2d9d83"
      },
      "execution_count": null,
      "outputs": [
        {
          "output_type": "stream",
          "name": "stdout",
          "text": [
            "IGjDTeYK\n",
            "M62kqHk8\n",
            "IaAxYN\n",
            "buuIit\n",
            "pSzzmq\n",
            "2eLjF5K\n",
            "aI1JHszB\n",
            "9iP2IjcH\n",
            "mhJKAi\n",
            "V2KOay4\n",
            "LuZiqnt\n",
            "wZWAhD\n",
            "B28kRZi\n",
            "PhfS6yzv\n",
            "kCHg5MSP\n",
            "xznGlEsR\n",
            "WpxpoUK\n",
            "y0waLx\n",
            "9N3rTIN\n",
            "Ncc2J645\n",
            "FPU5LN\n",
            "H3aLFaA\n",
            "zSgTIL\n",
            "R706lV\n",
            "FTJLLQa\n",
            "8J4ATy4\n",
            "FupKnZOp\n",
            "RSiMPn3\n",
            "v5nLj8ec\n",
            "JixxMag\n",
            "uC18h9\n",
            "3FTISXa\n",
            "NNRpFv\n",
            "OQheNlxO\n",
            "PxBADx\n",
            "OX01u2\n",
            "twwttXfb\n",
            "Iv9JkyD\n",
            "EXhZdKq\n",
            "oVFqTYK\n",
            "xaLRprLO\n",
            "PCdF6zYC\n",
            "Gh1oqqL\n",
            "msvDdIE9\n",
            "aJn9Wf1N\n",
            "NBOzasU\n",
            "DTBGcY\n",
            "leP8qr\n",
            "rNbq94\n",
            "YdqB5a\n",
            "3WNqNV\n",
            "Okmvwg\n",
            "JSrPbVe\n",
            "r9XbFjD\n",
            "MuPmNnJZ\n",
            "iRdaHg\n",
            "N7GErb\n",
            "ps8y8l\n",
            "YhIRIKHx\n",
            "OqvQbom\n",
            "rcVOrq\n",
            "xYQ6MfZq\n",
            "wWvwdk\n",
            "besKYN\n",
            "0NM5CkLb\n",
            "CyPsBwbx\n",
            "2b7rcP\n",
            "xtFNBqVT\n",
            "SzPup0XJ\n",
            "AYxzpzE\n",
            "zgRQr6T\n",
            "Jaf76Sv\n",
            "EdNpTIY0\n",
            "hCh4JLh\n",
            "Yuc1xrZI\n",
            "JYvg7N\n",
            "PJ5cHoW\n",
            "6AyXyP\n",
            "W1IC9T2v\n",
            "XyAYAj\n",
            "LC2Qgf\n",
            "QBIEGK\n",
            "4N9Qo0L\n",
            "fZ2el54E\n",
            "4WOdRVT\n",
            "6IrcC1\n",
            "XiHepxp\n",
            "I0ewa8r\n",
            "Utb7ay\n",
            "wWGzR4\n",
            "wQf2x88\n",
            "ZylYuiZ\n",
            "PigLNk\n",
            "eAB8MUH\n",
            "inHEGeyB\n",
            "YEigVH06\n",
            "pWU4GFx\n",
            "9hVcDr\n",
            "xVvMWvVE\n",
            "73hin72\n"
          ]
        }
      ]
    },
    {
      "cell_type": "markdown",
      "source": [
        "# **4(ii)**"
      ],
      "metadata": {
        "id": "5-QiWdweu_e0"
      }
    },
    {
      "cell_type": "code",
      "source": [
        "lower = 600\n",
        "upper = 800\n",
        "\n",
        "print(\"Prime numbers between\", lower, \"and\", upper, \"are:\")\n",
        "\n",
        "for num in range(lower, upper + 1):\n",
        "   # all prime numbers are greater than 1\n",
        "   if num > 1:\n",
        "       for i in range(2, num):\n",
        "           if (num % i) == 0:\n",
        "               break\n",
        "       else:\n",
        "           print(num)"
      ],
      "metadata": {
        "colab": {
          "base_uri": "https://localhost:8080/"
        },
        "id": "6T_oqJmNVBCG",
        "outputId": "8e8482a2-56ab-4a69-e3d0-2c9e9dd591dd"
      },
      "execution_count": null,
      "outputs": [
        {
          "output_type": "stream",
          "name": "stdout",
          "text": [
            "Prime numbers between 600 and 800 are:\n",
            "601\n",
            "607\n",
            "613\n",
            "617\n",
            "619\n",
            "631\n",
            "641\n",
            "643\n",
            "647\n",
            "653\n",
            "659\n",
            "661\n",
            "673\n",
            "677\n",
            "683\n",
            "691\n",
            "701\n",
            "709\n",
            "719\n",
            "727\n",
            "733\n",
            "739\n",
            "743\n",
            "751\n",
            "757\n",
            "761\n",
            "769\n",
            "773\n",
            "787\n",
            "797\n"
          ]
        }
      ]
    },
    {
      "cell_type": "markdown",
      "source": [
        "# **4(iii)**"
      ],
      "metadata": {
        "id": "TJe5-eiavCIJ"
      }
    },
    {
      "cell_type": "code",
      "source": [
        "\n",
        "begin \t= 100\n",
        "end \t= 1000\n",
        "\n",
        "for cnt in range(begin, end+1):\n",
        "\tif( cnt%7==0 and cnt%9 ==0 ):\n",
        "\t\tprint (cnt)\n"
      ],
      "metadata": {
        "colab": {
          "base_uri": "https://localhost:8080/"
        },
        "id": "Z9qjngqsVHWA",
        "outputId": "a7e05e0b-69e4-46b9-9556-3f3e9d74bfd0"
      },
      "execution_count": null,
      "outputs": [
        {
          "output_type": "stream",
          "name": "stdout",
          "text": [
            "126\n",
            "189\n",
            "252\n",
            "315\n",
            "378\n",
            "441\n",
            "504\n",
            "567\n",
            "630\n",
            "693\n",
            "756\n",
            "819\n",
            "882\n",
            "945\n"
          ]
        }
      ]
    },
    {
      "cell_type": "markdown",
      "source": [
        "# **Q.5**"
      ],
      "metadata": {
        "id": "Yfvf9lrwl5CK"
      }
    },
    {
      "cell_type": "code",
      "source": [
        "import random\n",
        "\n",
        "rand_list1=[]\n",
        "for i in range(10):\n",
        "    rand_list1.append(random.randint(10,30))\n",
        "\n",
        "\n",
        "rand_list2=[]\n",
        "for i in range(10):\n",
        "    rand_list2.append(random.randint(10,30))\n",
        "\n"
      ],
      "metadata": {
        "id": "ceKHWXR8Uv-I"
      },
      "execution_count": 25,
      "outputs": []
    },
    {
      "cell_type": "markdown",
      "source": [
        "# **Q.5(i)**"
      ],
      "metadata": {
        "id": "5dvT7dykl7Ke"
      }
    },
    {
      "cell_type": "code",
      "source": [
        "def common(lst1, lst2):\n",
        "    return list(set(lst1) & set(lst2))\n",
        "e=common(rand_list1,rand_list2)\n",
        "print(e)"
      ],
      "metadata": {
        "colab": {
          "base_uri": "https://localhost:8080/"
        },
        "id": "Nn-vn4I6YMtu",
        "outputId": "68ffb211-b918-4cd9-8e4c-e57d8700c978"
      },
      "execution_count": 23,
      "outputs": [
        {
          "output_type": "stream",
          "name": "stdout",
          "text": [
            "[20, 21, 22]\n"
          ]
        }
      ]
    },
    {
      "cell_type": "markdown",
      "source": [
        "# **Q.5(ii)**"
      ],
      "metadata": {
        "id": "qTSltH6Kl83G"
      }
    },
    {
      "cell_type": "code",
      "source": [
        "print(set(rand_list1))\n",
        "print(set(rand_list2))"
      ],
      "metadata": {
        "colab": {
          "base_uri": "https://localhost:8080/"
        },
        "id": "z3wnZ3N1Yq3R",
        "outputId": "4bcc9f79-41e9-4cf5-8fd3-2dd039bedbad"
      },
      "execution_count": 29,
      "outputs": [
        {
          "output_type": "stream",
          "name": "stdout",
          "text": [
            "{11, 13, 15, 19, 20, 21, 26}\n",
            "{10, 17, 18, 21, 25, 26, 29, 30}\n"
          ]
        }
      ]
    },
    {
      "cell_type": "markdown",
      "source": [
        "# **Q.5(iii)**"
      ],
      "metadata": {
        "id": "VJB-CNDyl-bH"
      }
    },
    {
      "cell_type": "code",
      "source": [
        "print(min(rand_list1))\n",
        "print(min(rand_list2))"
      ],
      "metadata": {
        "colab": {
          "base_uri": "https://localhost:8080/"
        },
        "id": "lUrqeSPxa2Yz",
        "outputId": "128eb054-78db-4655-99d3-829acebb8f10"
      },
      "execution_count": 31,
      "outputs": [
        {
          "output_type": "stream",
          "name": "stdout",
          "text": [
            "11\n",
            "10\n"
          ]
        }
      ]
    },
    {
      "cell_type": "markdown",
      "source": [
        "# **Q.5(iv)**"
      ],
      "metadata": {
        "id": "-ziu-2DLmAAH"
      }
    },
    {
      "cell_type": "code",
      "source": [
        "print(max(rand_list1))\n",
        "print(max(rand_list2))"
      ],
      "metadata": {
        "colab": {
          "base_uri": "https://localhost:8080/"
        },
        "id": "Z4uPJJymbDAy",
        "outputId": "0fd4717d-c70e-4564-e34a-cc8d06b04946"
      },
      "execution_count": 33,
      "outputs": [
        {
          "output_type": "stream",
          "name": "stdout",
          "text": [
            "26\n",
            "30\n"
          ]
        }
      ]
    },
    {
      "cell_type": "markdown",
      "source": [
        "# **Q.5(v)**"
      ],
      "metadata": {
        "id": "X6_kPcRDmYxC"
      }
    },
    {
      "cell_type": "code",
      "source": [
        "print(sum(rand_list1))\n",
        "print(sum(rand_list2))\n",
        "print(sum(rand_list1)+ sum(rand_list2))"
      ],
      "metadata": {
        "colab": {
          "base_uri": "https://localhost:8080/"
        },
        "id": "n_pxBfKhbGu5",
        "outputId": "7fc424fc-1c0b-4fda-d2bc-95a3058c4f67"
      },
      "execution_count": 35,
      "outputs": [
        {
          "output_type": "stream",
          "name": "stdout",
          "text": [
            "197\n",
            "235\n",
            "432\n"
          ]
        }
      ]
    },
    {
      "cell_type": "markdown",
      "source": [
        "# **Q.6(i)**"
      ],
      "metadata": {
        "id": "3ZXPn6WBafl8"
      }
    },
    {
      "cell_type": "code",
      "source": [
        "import random\n",
        "\n",
        "rand_list1=[]\n",
        "count=0\n",
        "for i in range(100):\n",
        "       rand_list1.append(random.randint(100,900))\n",
        "print(rand_list1)\n",
        "\n",
        "for i in rand_list1 :\n",
        "  if i%2 != 0 :\n",
        "     count += 1\n",
        "     print(i)\n",
        "\n",
        "print(count)\n"
      ],
      "metadata": {
        "colab": {
          "base_uri": "https://localhost:8080/"
        },
        "id": "ChJmUTEeX9Fl",
        "outputId": "bfb48a47-d0a2-4497-de63-8f0c254a756d"
      },
      "execution_count": null,
      "outputs": [
        {
          "output_type": "stream",
          "name": "stdout",
          "text": [
            "[733, 460, 778, 497, 818, 776, 192, 102, 879, 306, 743, 253, 804, 236, 172, 652, 531, 835, 309, 803, 350, 279, 124, 180, 317, 526, 228, 501, 877, 587, 268, 746, 680, 385, 873, 467, 435, 774, 549, 622, 883, 330, 655, 671, 704, 842, 175, 541, 765, 844, 713, 258, 338, 371, 402, 868, 853, 657, 308, 416, 846, 519, 758, 821, 868, 165, 698, 687, 248, 377, 583, 616, 562, 339, 876, 753, 880, 700, 402, 143, 503, 170, 241, 853, 383, 896, 700, 342, 406, 673, 227, 117, 766, 577, 414, 785, 313, 195, 212, 746]\n",
            "733\n",
            "497\n",
            "879\n",
            "743\n",
            "253\n",
            "531\n",
            "835\n",
            "309\n",
            "803\n",
            "279\n",
            "317\n",
            "501\n",
            "877\n",
            "587\n",
            "385\n",
            "873\n",
            "467\n",
            "435\n",
            "549\n",
            "883\n",
            "655\n",
            "671\n",
            "175\n",
            "541\n",
            "765\n",
            "713\n",
            "371\n",
            "853\n",
            "657\n",
            "519\n",
            "821\n",
            "165\n",
            "687\n",
            "377\n",
            "583\n",
            "339\n",
            "753\n",
            "143\n",
            "503\n",
            "241\n",
            "853\n",
            "383\n",
            "673\n",
            "227\n",
            "117\n",
            "577\n",
            "785\n",
            "313\n",
            "195\n",
            "49\n"
          ]
        }
      ]
    },
    {
      "cell_type": "markdown",
      "source": [
        "# **Q.6(ii)**"
      ],
      "metadata": {
        "id": "ygCk0Tc6vkIX"
      }
    },
    {
      "cell_type": "code",
      "source": [
        "import random\n",
        "\n",
        "rand_list1=[]\n",
        "cnt=0\n",
        "for i in range(100):\n",
        "       rand_list1.append(random.randint(100,900))\n",
        "print(rand_list1)\n",
        "for i in rand_list1 :\n",
        "  if i%2 == 0 :\n",
        "      cnt+=1\n",
        "      print(i)\n",
        "print(\"No. of even numbers are\",cnt)"
      ],
      "metadata": {
        "colab": {
          "base_uri": "https://localhost:8080/"
        },
        "id": "jH_PInKXb1RO",
        "outputId": "d3beb544-2107-4e90-f296-043d004f99ed"
      },
      "execution_count": 48,
      "outputs": [
        {
          "output_type": "stream",
          "name": "stdout",
          "text": [
            "[818, 561, 822, 700, 115, 505, 508, 773, 355, 485, 745, 372, 461, 838, 226, 505, 496, 240, 663, 859, 751, 452, 614, 317, 888, 558, 850, 617, 337, 649, 653, 348, 895, 872, 651, 578, 771, 517, 114, 692, 228, 880, 894, 303, 317, 801, 400, 624, 370, 522, 864, 462, 215, 294, 529, 619, 766, 614, 414, 356, 744, 132, 145, 677, 348, 788, 753, 106, 293, 641, 481, 871, 414, 584, 175, 337, 199, 385, 235, 571, 530, 153, 535, 207, 279, 547, 452, 760, 376, 450, 175, 217, 737, 783, 556, 460, 421, 898, 713, 468]\n",
            "818\n",
            "822\n",
            "700\n",
            "508\n",
            "372\n",
            "838\n",
            "226\n",
            "496\n",
            "240\n",
            "452\n",
            "614\n",
            "888\n",
            "558\n",
            "850\n",
            "348\n",
            "872\n",
            "578\n",
            "114\n",
            "692\n",
            "228\n",
            "880\n",
            "894\n",
            "400\n",
            "624\n",
            "370\n",
            "522\n",
            "864\n",
            "462\n",
            "294\n",
            "766\n",
            "614\n",
            "414\n",
            "356\n",
            "744\n",
            "132\n",
            "348\n",
            "788\n",
            "106\n",
            "414\n",
            "584\n",
            "530\n",
            "452\n",
            "760\n",
            "376\n",
            "450\n",
            "556\n",
            "460\n",
            "898\n",
            "468\n",
            "No. of even numbers are 49\n"
          ]
        }
      ]
    },
    {
      "cell_type": "markdown",
      "source": [
        "# **Q.6(iii)**"
      ],
      "metadata": {
        "id": "ABATbAJ5vmpT"
      }
    },
    {
      "cell_type": "code",
      "source": [
        "import random\n",
        "\n",
        "rand_list1=[]\n",
        "count=0\n",
        "for i in range(100):\n",
        "       rand_list1.append(random.randint(100,900))\n",
        "print(rand_list1)\n",
        "sum=0\n",
        "for i in rand_list1 :\n",
        "  k=0\n",
        "  for j in range(2,i//2+1):\n",
        "    if i%j==0:\n",
        "      k=1\n",
        "      break\n",
        "  if k==0:\n",
        "     count += 1\n",
        "     print(\"Numberof prime\", count)\n",
        "     print(i)\n",
        "print(\"No. of prime numbers are\",count)"
      ],
      "metadata": {
        "colab": {
          "base_uri": "https://localhost:8080/"
        },
        "id": "WZteiUzMdv2N",
        "outputId": "06f4764a-9bc8-4c3c-be47-1efb328c3c68"
      },
      "execution_count": 49,
      "outputs": [
        {
          "output_type": "stream",
          "name": "stdout",
          "text": [
            "[725, 351, 270, 868, 481, 380, 245, 159, 627, 618, 325, 371, 294, 477, 258, 704, 540, 830, 287, 766, 644, 509, 437, 158, 162, 198, 722, 705, 867, 752, 549, 844, 746, 773, 209, 172, 467, 235, 596, 328, 870, 386, 576, 657, 897, 459, 389, 701, 728, 894, 149, 452, 325, 347, 175, 610, 371, 635, 688, 128, 231, 711, 210, 785, 525, 159, 167, 563, 119, 219, 609, 565, 159, 425, 200, 318, 263, 377, 261, 109, 464, 481, 291, 777, 531, 865, 600, 230, 205, 556, 203, 829, 760, 729, 449, 584, 789, 552, 178, 356]\n",
            "Numberof prime 1\n",
            "509\n",
            "Numberof prime 2\n",
            "773\n",
            "Numberof prime 3\n",
            "467\n",
            "Numberof prime 4\n",
            "389\n",
            "Numberof prime 5\n",
            "701\n",
            "Numberof prime 6\n",
            "149\n",
            "Numberof prime 7\n",
            "347\n",
            "Numberof prime 8\n",
            "167\n",
            "Numberof prime 9\n",
            "563\n",
            "Numberof prime 10\n",
            "263\n",
            "Numberof prime 11\n",
            "109\n",
            "Numberof prime 12\n",
            "829\n",
            "Numberof prime 13\n",
            "449\n",
            "No. of prime numbers are 13\n"
          ]
        }
      ]
    },
    {
      "cell_type": "markdown",
      "source": [
        "# **Q.7**"
      ],
      "metadata": {
        "id": "rTEDvnw7ma1m"
      }
    },
    {
      "cell_type": "code",
      "source": [
        "D = {1: \"One\", 2: \"Two\", 3: \"Three\", 4: \"Four\", 5: \"Five\"}\n",
        "\n",
        "\n",
        "with open(\"output.txt\", \"w\") as file:\n",
        "\n",
        "    for key, value in D.items():\n",
        "\n",
        "        file.write(f\"{key}, {value}\\n\")\n",
        "\n",
        "\n",
        "with open(\"output.txt\", \"r\") as file:\n",
        "\n",
        "    file_contents = file.read()\n",
        "    print(file_contents)\n",
        "print(\"Keys and values have been written to the file.\")"
      ],
      "metadata": {
        "colab": {
          "base_uri": "https://localhost:8080/"
        },
        "id": "KavM0gB7eaVE",
        "outputId": "3e09ca47-17a3-4826-99ce-586d8171d507"
      },
      "execution_count": 39,
      "outputs": [
        {
          "output_type": "stream",
          "name": "stdout",
          "text": [
            "1, One\n",
            "2, Two\n",
            "3, Three\n",
            "4, Four\n",
            "5, Five\n",
            "\n",
            "Keys and values have been written to the file.\n"
          ]
        }
      ]
    },
    {
      "cell_type": "markdown",
      "source": [
        "# **Q.8**\n"
      ],
      "metadata": {
        "id": "h0SBvQwxewBb"
      }
    },
    {
      "cell_type": "code",
      "source": [
        "L = [\"One\", \"Two\", \"Three\", \"Four\", \"Five\"]\n",
        "\n",
        "# Open the file in write mode\n",
        "with open(\"output.txt\", \"w\") as file:\n",
        "    # Iterate over the list elements\n",
        "    for element in L:\n",
        "        # Get the length of the element\n",
        "        length = len(element)\n",
        "        # Write the element and its length to the file\n",
        "        file.write(f\"{element}, {length}\\n\")\n",
        "         # Open the file in read mode\n",
        "with open(\"output.txt\", \"r\") as file:\n",
        "    # Perform operations on the file\n",
        "    # For example, read its contents\n",
        "    file_contents = file.read()\n",
        "    print(file_contents)\n",
        "# Print a message indicating that the operation is complete\n",
        "print(\"Element lengths have been written to the file.\")"
      ],
      "metadata": {
        "colab": {
          "base_uri": "https://localhost:8080/"
        },
        "id": "Q7BAMBXIf6Fz",
        "outputId": "443c916b-03f8-4b53-ebde-2fcbbe74ef0d"
      },
      "execution_count": null,
      "outputs": [
        {
          "output_type": "stream",
          "name": "stdout",
          "text": [
            "One, 3\n",
            "Two, 3\n",
            "Three, 5\n",
            "Four, 4\n",
            "Five, 4\n",
            "\n",
            "Element lengths have been written to the file.\n"
          ]
        }
      ]
    },
    {
      "cell_type": "markdown",
      "source": [
        "# **Q.9**"
      ],
      "metadata": {
        "id": "Ss8Ui0qonhOw"
      }
    },
    {
      "cell_type": "code",
      "source": [
        "import random\n",
        "import string\n",
        "\n",
        "\n",
        "def generate_random_string(length):\n",
        "    letters = string.ascii_letters\n",
        "    return ''.join(random.choice(letters) for _ in range(length))\n",
        "\n",
        "\n",
        "with open(\"output.txt\", \"w\") as file:\n",
        "\n",
        "    for _ in range(100):\n",
        "        string_length = random.randint(10, 15)\n",
        "        random_string = generate_random_string(string_length)\n",
        "        file.write(random_string + \"\\n\")\n",
        "\n",
        "\n",
        "with open(\"output.txt\", \"r\") as file:\n",
        "\n",
        "    file_contents = file.read()\n",
        "    print(file_contents)\n",
        "print(\"Random strings have been written to the file.\")"
      ],
      "metadata": {
        "colab": {
          "base_uri": "https://localhost:8080/"
        },
        "id": "KzL_jRGpf0Ij",
        "outputId": "40abc48b-6075-49ab-ff56-40e1393feede"
      },
      "execution_count": 40,
      "outputs": [
        {
          "output_type": "stream",
          "name": "stdout",
          "text": [
            "eYestZGKPAc\n",
            "vpPCBMJZTOdnmjc\n",
            "lBIVvFPbnUeT\n",
            "LdZSTvwvlgBDx\n",
            "wKOupjdEtQyd\n",
            "yikYtzxAIBDfVlY\n",
            "ftjasBzUErBb\n",
            "ILBnuXvYteVT\n",
            "YuwSQnFWtzYgaYX\n",
            "VriTCwBUOJ\n",
            "jkHmlLEbyjI\n",
            "EFnNBOLSVMd\n",
            "LTraMmFAXWfb\n",
            "todiabiPPCa\n",
            "EJOfwhEbYE\n",
            "EmjYzSWSyhON\n",
            "qEqeEZDhzv\n",
            "tdZBzpKXEZa\n",
            "LUbGSVmoNQnY\n",
            "bIWTMRjBzUFFa\n",
            "xnKfInSaowvc\n",
            "OavLPvJRfXNELpO\n",
            "OfmNwsECeZ\n",
            "qxxQPuByVSqWapo\n",
            "jZZGTqWviyHm\n",
            "UZwXNtmKIXk\n",
            "iKDIXXkZCur\n",
            "szopmJRcWfXsUfg\n",
            "SaKXBMkwpGkIGjt\n",
            "cEvNAwbIFGDYpxa\n",
            "IvxvKyFglhT\n",
            "WxeRBZJNCw\n",
            "ESosShLZgl\n",
            "iCCHXgdiqfU\n",
            "BggDvigROl\n",
            "jstbfNNRCmE\n",
            "dnjbYqcgqIRRrTD\n",
            "VRXPzLcYsRQG\n",
            "SAcIIyKQXgfZvLh\n",
            "uAypxDlSptVjmBf\n",
            "gmSvcFwDJaRNwYp\n",
            "nYbitZfRMb\n",
            "JSThIIddJoebV\n",
            "TsYTrSEjNqEVM\n",
            "wMcSOUGTmhJ\n",
            "JeYNVXAvdJgcZa\n",
            "pxktIvZJjclThoG\n",
            "iDJPikWVgSiYtjM\n",
            "qnfpnENWvGo\n",
            "vsygNPUPECHAQO\n",
            "pQrlEWvmskcNLv\n",
            "tSFvSIFwGZa\n",
            "vXvWPRFckvfyR\n",
            "IkaWvVqYlH\n",
            "PHQlOGhhkukmWet\n",
            "KmXilNeEjwTN\n",
            "WWSqaSEWIuuip\n",
            "LCtMDvBTLAK\n",
            "TgjPEnAKGiXjNTR\n",
            "KzqNkHDYYSUn\n",
            "hSRmpOGyZegFY\n",
            "EPTCwFjGNoDm\n",
            "KRmwMtikzsIn\n",
            "RBkDGIWoUuhIb\n",
            "MQFZtWrvAHFz\n",
            "KwekAgVpVFtPK\n",
            "SopGuxMkpslC\n",
            "ndyilLtrjMhNQn\n",
            "WpcqynYqcHvB\n",
            "wLMPqXampwwFHE\n",
            "wKUhtKCXFOr\n",
            "WfhbpAsHwE\n",
            "IJoHHNcztrxNNKp\n",
            "EuajjwbcPqpHbo\n",
            "tRVZUbcIATBEqO\n",
            "uonvFImGjqC\n",
            "tpGUiPDGXjaSL\n",
            "IQkaxJxbddfw\n",
            "dnZLZACZfk\n",
            "WrQPCWORfA\n",
            "AURXxLeEoNnFdU\n",
            "RPVHSVnufbch\n",
            "jJPXVujpUNhBy\n",
            "EucsNYEKjYuwIgC\n",
            "OYFnmhxUHgZZsB\n",
            "xsglZNsSVUatO\n",
            "lZtoGqglaErcAF\n",
            "WlRkvcXybr\n",
            "zqYlEOqPCoD\n",
            "koKiHgYnunT\n",
            "pKPMfJXpnFkVh\n",
            "lJcyusAtPcKw\n",
            "rTBAJvJcBe\n",
            "TryfeUJGDYgWVTO\n",
            "rMrzmYQVIMx\n",
            "NHlEIyfxbd\n",
            "iGknvJHPutD\n",
            "fpLGPjYgTMPObyv\n",
            "vxVJmyUfWtlzt\n",
            "PQDIIoyFaI\n",
            "\n",
            "Random strings have been written to the file.\n"
          ]
        }
      ]
    },
    {
      "cell_type": "markdown",
      "source": [
        "## **Q.10**"
      ],
      "metadata": {
        "id": "kka8yvOnlcXs"
      }
    },
    {
      "cell_type": "code",
      "source": [
        "def is_prime(number):\n",
        "    if number < 2:\n",
        "        return False\n",
        "    for i in range(2, int(number ** 0.5) + 1):\n",
        "        if number % i == 0:\n",
        "            return False\n",
        "    return True\n",
        "\n",
        "# Open the file in write mode\n",
        "with open(\"output.txt\", \"w\") as file:\n",
        "    # Find and write all prime numbers between 600 and 800\n",
        "    for num in range(600, 801):\n",
        "        if is_prime(num):\n",
        "            file.write(str(num) + \"\\n\")\n",
        "with open(\"output.txt\", \"r\") as file:\n",
        "    # Perform operations on the file\n",
        "    # For example, read its contents\n",
        "    file_contents = file.read()\n",
        "    print(file_contents)\n",
        "\n",
        "# Print a message indicating that the operation is complete\n",
        "print(\"Prime numbers have been written to the file.\")"
      ],
      "metadata": {
        "colab": {
          "base_uri": "https://localhost:8080/"
        },
        "id": "W4WzwjCqi6Aq",
        "outputId": "281ffb65-81e5-44b7-f6bc-4a5f55f94523"
      },
      "execution_count": null,
      "outputs": [
        {
          "output_type": "stream",
          "name": "stdout",
          "text": [
            "601\n",
            "607\n",
            "613\n",
            "617\n",
            "619\n",
            "631\n",
            "641\n",
            "643\n",
            "647\n",
            "653\n",
            "659\n",
            "661\n",
            "673\n",
            "677\n",
            "683\n",
            "691\n",
            "701\n",
            "709\n",
            "719\n",
            "727\n",
            "733\n",
            "739\n",
            "743\n",
            "751\n",
            "757\n",
            "761\n",
            "769\n",
            "773\n",
            "787\n",
            "797\n",
            "\n",
            "Prime numbers have been written to the file.\n"
          ]
        }
      ]
    },
    {
      "cell_type": "markdown",
      "source": [
        "# **Q.11**"
      ],
      "metadata": {
        "id": "AuXsLFlInj-j"
      }
    },
    {
      "cell_type": "code",
      "source": [
        "import time\n",
        "\n",
        "\n",
        "start_time = time.time()\n",
        "\n",
        "# Run your program here\n",
        "for i in range(1,10):\n",
        "  print(i)\n",
        "\n",
        "\n",
        "end_time = time.time()\n",
        "\n",
        "\n",
        "elapsed_time = end_time - start_time\n",
        "\n",
        "print(\"Time taken:\", elapsed_time, \"seconds\")"
      ],
      "metadata": {
        "colab": {
          "base_uri": "https://localhost:8080/"
        },
        "id": "NZXXcdHPh8wk",
        "outputId": "f51306c9-520e-47c2-bbd4-fa777d92e8be"
      },
      "execution_count": 41,
      "outputs": [
        {
          "output_type": "stream",
          "name": "stdout",
          "text": [
            "1\n",
            "2\n",
            "3\n",
            "4\n",
            "5\n",
            "6\n",
            "7\n",
            "8\n",
            "9\n",
            "Time taken: 0.0003695487976074219 seconds\n"
          ]
        }
      ]
    },
    {
      "cell_type": "markdown",
      "source": [
        "# **Q.12**"
      ],
      "metadata": {
        "id": "4kEcArEGlNFe"
      }
    },
    {
      "cell_type": "code",
      "source": [
        "import time\n",
        "import matplotlib.pyplot as plt\n",
        "\n",
        "# Function to sort a list and measure the time taken\n",
        "def sort_and_measure_time(num_elements):\n",
        "    # Generate a list with the specified number of elements\n",
        "    numbers = list(range(num_elements))\n",
        "\n",
        "    # Start the timer\n",
        "    start_time = time.time()\n",
        "\n",
        "    # Sort the list\n",
        "    numbers.sort()\n",
        "\n",
        "    # Calculate the elapsed time\n",
        "    elapsed_time = time.time() - start_time\n",
        "\n",
        "    # Return the elapsed time\n",
        "    return elapsed_time\n",
        "\n",
        "# Number of elements in the list\n",
        "num_elements = [5000, 10000, 15000, 20000, 25000]\n",
        "\n",
        "# List to store the time taken for each number of elements\n",
        "time_taken = []\n",
        "\n",
        "# Measure the time taken for each number of elements and store the results\n",
        "for num in num_elements:\n",
        "    elapsed_time = sort_and_measure_time(num)\n",
        "    time_taken.append(elapsed_time)\n",
        "\n",
        "# Plot the graph\n",
        "plt.plot(num_elements, time_taken, 'bo-')\n",
        "plt.xlabel('Number of Elements')\n",
        "plt.ylabel('Time Taken (seconds)')\n",
        "plt.title('Sorting Time vs. Number of Elements')\n",
        "plt.show()"
      ],
      "metadata": {
        "colab": {
          "base_uri": "https://localhost:8080/",
          "height": 472
        },
        "id": "X9VXRK6AkV9L",
        "outputId": "b1f98cd2-502d-49a2-c8e6-512170573440"
      },
      "execution_count": null,
      "outputs": [
        {
          "output_type": "display_data",
          "data": {
            "text/plain": [
              "<Figure size 640x480 with 1 Axes>"
            ],
            "image/png": "[encoded data removed]"
          },
          "metadata": {}
        }
      ]
    },
    {
      "cell_type": "markdown",
      "source": [
        "# **Q.13**"
      ],
      "metadata": {
        "id": "UXY_0O_6nmEd"
      }
    },
    {
      "cell_type": "code",
      "source": [
        "\n",
        "student_marks = {\n",
        "    \"Alice\": [80, 85, 90, 95, 92],\n",
        "    \"Bob\": [75, 82, 87, 80, 78],\n",
        "    \"Charlie\": [90, 92, 88, 85, 94],\n",
        "    \"David\": [88, 92, 85, 79, 90],\n",
        "    \"Eve\": [82, 86, 89, 92, 84]\n",
        "}\n",
        "\n",
        "\n",
        "average_marks = {student: sum(marks) / len(marks) for student, marks in student_marks.items()}\n",
        "\n",
        "\n",
        "max_student = max(average_marks, key=average_marks.get)\n",
        "max_average = average_marks[max_student]\n",
        "\n",
        "\n",
        "min_student = min(average_marks, key=average_marks.get)\n",
        "min_average = average_marks[min_student]\n",
        "\n",
        "\n",
        "print(\"Student with maximum average marks:\")\n",
        "print(\"Name:\", max_student)\n",
        "print(\"Average Marks:\", max_average)\n",
        "print()\n",
        "print(\"Student with minimum average marks:\")\n",
        "print(\"Name:\", min_student)\n",
        "print(\"Average Marks:\", min_average)\n"
      ],
      "metadata": {
        "colab": {
          "base_uri": "https://localhost:8080/"
        },
        "id": "bkDOH9VGjz3_",
        "outputId": "d508e237-9005-4e4e-c5ef-a5e1b275b0aa"
      },
      "execution_count": 42,
      "outputs": [
        {
          "output_type": "stream",
          "name": "stdout",
          "text": [
            "Student with maximum average marks:\n",
            "Name: Charlie\n",
            "Average Marks: 89.8\n",
            "\n",
            "Student with minimum average marks:\n",
            "Name: Bob\n",
            "Average Marks: 80.4\n"
          ]
        }
      ]
    }
  ]
}